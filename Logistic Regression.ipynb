{
 "cells": [
  {
   "cell_type": "markdown",
   "id": "f510ef56",
   "metadata": {},
   "source": [
    "### Step 1: Import Necessary Packages"
   ]
  },
  {
   "cell_type": "code",
   "execution_count": 4,
   "id": "1238e0ea",
   "metadata": {},
   "outputs": [],
   "source": [
    "import numpy as np\n",
    "import pandas as pd\n",
    "import matplotlib.pyplot as plt\n",
    "from sklearn.model_selection import train_test_split\n",
    "from sklearn.linear_model import LogisticRegression\n",
    "from sklearn import metrics"
   ]
  },
  {
   "cell_type": "markdown",
   "id": "282e76b5",
   "metadata": {},
   "source": [
    "### Step 2: Load the Data"
   ]
  },
  {
   "cell_type": "code",
   "execution_count": 2,
   "id": "774fee87",
   "metadata": {},
   "outputs": [
    {
     "data": {
      "text/plain": [
       "((10000, 4),\n",
       "    default  student      balance        income\n",
       " 0        0        0   729.526495  44361.625074\n",
       " 1        0        1   817.180407  12106.134700\n",
       " 2        0        0  1073.549164  31767.138947\n",
       " 3        0        0   529.250605  35704.493935\n",
       " 4        0        0   785.655883  38463.495879)"
      ]
     },
     "execution_count": 2,
     "metadata": {},
     "output_type": "execute_result"
    }
   ],
   "source": [
    "data= pd.read_csv('https://raw.githubusercontent.com/Statology/Python-Guides/main/default.csv')\n",
    "data.shape, data.head()"
   ]
  },
  {
   "cell_type": "markdown",
   "id": "a3eb7356",
   "metadata": {},
   "source": [
    "### Step 3: Create Training and Test Samples"
   ]
  },
  {
   "cell_type": "code",
   "execution_count": 6,
   "id": "7fbf709e",
   "metadata": {},
   "outputs": [
    {
     "data": {
      "text/plain": [
       "((7000, 3), (3000, 3))"
      ]
     },
     "execution_count": 6,
     "metadata": {},
     "output_type": "execute_result"
    }
   ],
   "source": [
    "#Define predictor variables\n",
    "X= data[['student','balance','income']]\n",
    "\n",
    "#Define predicted/response/target variable\n",
    "y= data['default']\n",
    "\n",
    "#split the dataset into training (70%) and testing (30%) sets\n",
    "\n",
    "X_train,X_test,y_train,y_test= train_test_split(X,y, test_size=0.3, random_state=42)\n",
    "X_train.shape, X_test.shape"
   ]
  },
  {
   "cell_type": "markdown",
   "id": "f15cfc76",
   "metadata": {},
   "source": [
    "### Step 4: Fit the Logistic Regression Model"
   ]
  },
  {
   "cell_type": "code",
   "execution_count": 7,
   "id": "2d7c55cb",
   "metadata": {},
   "outputs": [
    {
     "name": "stdout",
     "output_type": "stream",
     "text": [
      "[0 0 0 ... 0 0 0]\n"
     ]
    }
   ],
   "source": [
    "#instantiate the model\n",
    "log_regression= LogisticRegression()\n",
    "\n",
    "#fit the model using the training data\n",
    "log_regression.fit(X,y)\n",
    "\n",
    "#use model to make predictions on test data\n",
    "y_pred= log_regression.predict(X_test)\n",
    "print(y_pred)"
   ]
  },
  {
   "cell_type": "markdown",
   "id": "c46a7f8a",
   "metadata": {},
   "source": [
    "### Step 5: Model Diagnostics"
   ]
  },
  {
   "cell_type": "code",
   "execution_count": 8,
   "id": "db8639bf",
   "metadata": {},
   "outputs": [
    {
     "data": {
      "text/plain": [
       "array([[2887,   19],\n",
       "       [  77,   17]], dtype=int64)"
      ]
     },
     "execution_count": 8,
     "metadata": {},
     "output_type": "execute_result"
    }
   ],
   "source": [
    "# First, we’ll create the confusion matrix for the model:\n",
    "\n",
    "cnf= metrics.confusion_matrix(y_test, y_pred)\n",
    "cnf"
   ]
  },
  {
   "cell_type": "code",
   "execution_count": 9,
   "id": "aa3e85fe",
   "metadata": {},
   "outputs": [
    {
     "name": "stdout",
     "output_type": "stream",
     "text": [
      "Accuracy 0.968\n"
     ]
    }
   ],
   "source": [
    "# We can also obtain the accuracy of the model, which tells us the percentage of \n",
    "#correction predictions the model made:\n",
    "\n",
    "print('Accuracy', metrics.accuracy_score(y_test,y_pred))"
   ]
  },
  {
   "cell_type": "markdown",
   "id": "2b84b936",
   "metadata": {},
   "source": [
    "Lastly, we can plot the ROC (Receiver Operating Characteristic) Curve which displays the percentage of true positives predicted by the model as the prediction probability cutoff is lowered from 1 to 0.\n",
    "\n",
    "The higher the AUC (area under the curve), the more accurately our model is able to predict outcomes:"
   ]
  },
  {
   "cell_type": "code",
   "execution_count": 10,
   "id": "a24c5e4e",
   "metadata": {},
   "outputs": [
    {
     "data": {
      "image/png": "[encoded data removed]",
      "text/plain": [
       "<Figure size 432x288 with 1 Axes>"
      ]
     },
     "metadata": {
      "needs_background": "light"
     },
     "output_type": "display_data"
    }
   ],
   "source": [
    "#define metrics\n",
    "y_pred_proba = log_regression.predict_proba(X_test)[::,1]\n",
    "fpr, tpr, _ = metrics.roc_curve(y_test,  y_pred_proba)\n",
    "auc = metrics.roc_auc_score(y_test, y_pred_proba)\n",
    "\n",
    "#create ROC curve\n",
    "plt.plot(fpr,tpr,label=\"AUC=\"+str(auc))\n",
    "plt.legend(loc=4)\n",
    "plt.show()"
   ]
  },
  {
   "cell_type": "code",
   "execution_count": 11,
   "id": "234bc750",
   "metadata": {},
   "outputs": [
    {
     "data": {
      "text/plain": [
       "<AxesSubplot:xlabel='default', ylabel='count'>"
      ]
     },
     "execution_count": 11,
     "metadata": {},
     "output_type": "execute_result"
    },
    {
     "data": {
      "image/png": "[encoded data removed]",
      "text/plain": [
       "<Figure size 432x288 with 1 Axes>"
      ]
     },
     "metadata": {
      "needs_background": "light"
     },
     "output_type": "display_data"
    }
   ],
   "source": [
    "import seaborn as sbn\n",
    "\n",
    "sbn.countplot(x='default', data=data)"
   ]
  },
  {
   "cell_type": "code",
   "execution_count": 13,
   "id": "450b2a2e",
   "metadata": {},
   "outputs": [
    {
     "data": {
      "text/plain": [
       "<AxesSubplot:xlabel='default', ylabel='count'>"
      ]
     },
     "execution_count": 13,
     "metadata": {},
     "output_type": "execute_result"
    },
    {
     "data": {
      "image/png": "[encoded data removed]",
      "text/plain": [
       "<Figure size 432x288 with 1 Axes>"
      ]
     },
     "metadata": {
      "needs_background": "light"
     },
     "output_type": "display_data"
    }
   ],
   "source": [
    "sbn.countplot(x='default', hue='student', data=data)"
   ]
  },
  {
   "cell_type": "code",
   "execution_count": null,
   "id": "f8b9e8a2",
   "metadata": {},
   "outputs": [],
   "source": []
  }
 ],
 "metadata": {
  "kernelspec": {
   "display_name": "Python 3 (ipykernel)",
   "language": "python",
   "name": "python3"
  },
  "language_info": {
   "codemirror_mode": {
    "name": "ipython",
    "version": 3
   },
   "file_extension": ".py",
   "mimetype": "text/x-python",
   "name": "python",
   "nbconvert_exporter": "python",
   "pygments_lexer": "ipython3",
   "version": "3.9.7"
  }
 },
 "nbformat": 4,
 "nbformat_minor": 5
}
